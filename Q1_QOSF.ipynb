{
 "cells": [
  {
   "cell_type": "code",
   "execution_count": 1,
   "id": "9fed5044-e662-4a7e-9bbf-4e9e077cbbe6",
   "metadata": {},
   "outputs": [],
   "source": [
    "import numpy as np\n",
    "\n",
    "# Importing standard Qiskit libraries\n",
    "from qiskit import QuantumCircuit, transpile, Aer, IBMQ\n",
    "from qiskit.tools.jupyter import *\n",
    "from qiskit.visualization import *\n",
    "from ibm_quantum_widgets import *\n",
    "from qiskit.quantum_info import *\n",
    "import math\n",
    "from qiskit.providers.aer import QasmSimulator\n",
    "from math import sqrt\n",
    "\n",
    "# Loading your IBM Quantum account(s)\n",
    "provider = IBMQ.load_account()"
   ]
  },
  {
   "cell_type": "code",
   "execution_count": 2,
   "id": "f91dd455-0c83-4b55-ae4f-b5730fc8c2df",
   "metadata": {},
   "outputs": [],
   "source": [
    "from qiskit import *"
   ]
  },
  {
   "cell_type": "markdown",
   "id": "cc729493-d28a-4fc0-8d82-45c10098b62c",
   "metadata": {},
   "source": [
    "## Part 1\n",
    "Solving the default case given i.e. [1,5,7,10]"
   ]
  },
  {
   "cell_type": "code",
   "execution_count": 4,
   "id": "259f3aa3-bdaa-4214-bd1f-49a21902dd1c",
   "metadata": {},
   "outputs": [
    {
     "name": "stdout",
     "output_type": "stream",
     "text": [
      "Enter number of inputs\n"
     ]
    },
    {
     "name": "stdin",
     "output_type": "stream",
     "text": [
      " 4\n",
      " 1\n",
      " 5\n",
      " 7\n",
      " 10\n"
     ]
    }
   ],
   "source": [
    "a = [] #Initializing the array\n",
    "print(\"Enter number of inputs\")\n",
    "n = int(input()) #Length of the array the logarithm of which would be equal to the length of each bitstring\n",
    "for i in range(0,n):\n",
    "    x = int(input())\n",
    "    a.append(x)\n"
   ]
  },
  {
   "cell_type": "code",
   "execution_count": 5,
   "id": "b8d27944-6d8c-4d2a-98db-90d535ca982a",
   "metadata": {},
   "outputs": [
    {
     "name": "stdout",
     "output_type": "stream",
     "text": [
      "[1, 5, 7, 10]\n"
     ]
    }
   ],
   "source": [
    "print(a)"
   ]
  },
  {
   "cell_type": "code",
   "execution_count": 6,
   "id": "5e0c9c37-af32-4511-af10-bf34364ce6f9",
   "metadata": {},
   "outputs": [
    {
     "name": "stdout",
     "output_type": "stream",
     "text": [
      "['0001', '0101', '0111', '1010']\n"
     ]
    }
   ],
   "source": [
    "b = [f\"{i:04b}\" for i in a] #Converting integers to binary\n",
    "print(b)"
   ]
  },
  {
   "cell_type": "code",
   "execution_count": 7,
   "id": "b3bd2dd4-bb91-4e86-ae93-9a39de5e8c5b",
   "metadata": {},
   "outputs": [],
   "source": [
    "def flip(ch):\n",
    "    return '1' if (ch == '0') else '0'\n",
    "def getFlip(str, expected):\n",
    "    flipCount = 0\n",
    "    for i in range(len( str)):\n",
    "        if (str[i] != expected):\n",
    "            flipCount += 1\n",
    "        expected = flip(expected)\n",
    "    return flipCount\n",
    "def minFlip(str):\n",
    "    if (min(getFlip(str, '0'),\n",
    "            getFlip(str, '1'))==0):\n",
    "        return 1\n",
    "    else:\n",
    "        return 0\n",
    "#This function returns 1 if the string is alternate else 0\n"
   ]
  },
  {
   "cell_type": "code",
   "execution_count": 8,
   "id": "9347d916-765c-4c65-ab8f-2f90ea40a949",
   "metadata": {
    "tags": []
   },
   "outputs": [
    {
     "name": "stdout",
     "output_type": "stream",
     "text": [
      "['01', '11']\n",
      "[1, 3]\n"
     ]
    }
   ],
   "source": [
    "q = []\n",
    "r = []\n",
    "for i in range(0,len(a)):\n",
    "    if(minFlip(b[i])):\n",
    "        r.append(i)\n",
    "        q.append(bin(i)[2:].zfill(2))\n",
    "print(q)\n",
    "print(r)"
   ]
  },
  {
   "cell_type": "code",
   "execution_count": 9,
   "id": "146f1f13-ab7f-4664-bfcb-e512521ad95e",
   "metadata": {},
   "outputs": [
    {
     "name": "stdout",
     "output_type": "stream",
     "text": [
      "[0, 0, 0, 0]\n"
     ]
    }
   ],
   "source": [
    "t = []\n",
    "for i in range(0,n):\n",
    "    t.append(0)\n",
    "print(t)"
   ]
  },
  {
   "cell_type": "code",
   "execution_count": 10,
   "id": "15969ceb-bae1-44af-88b3-03a36e847769",
   "metadata": {},
   "outputs": [
    {
     "name": "stdout",
     "output_type": "stream",
     "text": [
      "[0, 0.7071067811865475, 0, 0.7071067811865475]\n"
     ]
    }
   ],
   "source": [
    "g = 1/sqrt(len(r))\n",
    "for i in r:\n",
    "    t[i] = g\n",
    "print(t) #Generating the statevector based upon the conditions concluded from above"
   ]
  },
  {
   "cell_type": "code",
   "execution_count": 11,
   "id": "1a70a8fd-3580-46f2-9aa0-615bec2a7316",
   "metadata": {},
   "outputs": [],
   "source": [
    "def dirac_notation(coefficients, num_qubits):#Function used to convert the array state to dirac notation\n",
    "    for j in range(0,len(coefficients)):\n",
    "        if(coefficients[j] != 0):\n",
    "            break\n",
    "    print(coefficients[j], '|', bin(j).replace(\"0b\", \"\").zfill(num_qubits), '>' , sep = '', end = ' ')\n",
    "    for i in range(j+1, int(math.pow(2, num_qubits))):\n",
    "            if(coefficients[i] !=0):\n",
    "                print('+ ', coefficients[i], '|', bin(i).replace(\"0b\", \"\").zfill(num_qubits), '>' , sep = '', end = ' ')"
   ]
  },
  {
   "cell_type": "code",
   "execution_count": 12,
   "id": "243826fa-a9f8-4226-8ce7-899825d632a6",
   "metadata": {},
   "outputs": [
    {
     "name": "stdout",
     "output_type": "stream",
     "text": [
      "0.7071|01> + 0.7071|11> "
     ]
    }
   ],
   "source": [
    "dirac_notation(np.around(t, 4), 2)"
   ]
  },
  {
   "cell_type": "markdown",
   "id": "338f61e1-1a15-4627-9c9c-2a908badce87",
   "metadata": {},
   "source": [
    "## Part 2\n",
    "Given any case"
   ]
  },
  {
   "cell_type": "code",
   "execution_count": 13,
   "id": "86806746-9dec-4d2c-bf72-fd926fed076c",
   "metadata": {},
   "outputs": [
    {
     "name": "stdout",
     "output_type": "stream",
     "text": [
      "Enter number of inputs\n"
     ]
    },
    {
     "name": "stdin",
     "output_type": "stream",
     "text": [
      " 8\n",
      " 1\n",
      " 5\n",
      " 6\n",
      " 170\n",
      " 85\n",
      " 14\n",
      " 9\n",
      " 7\n"
     ]
    }
   ],
   "source": [
    "a = []\n",
    "print(\"Enter number of inputs\")\n",
    "n = int(input())\n",
    "for i in range(0,n):\n",
    "    x = int(input())\n",
    "    a.append(x)\n"
   ]
  },
  {
   "cell_type": "code",
   "execution_count": 14,
   "id": "278c552d-0c0f-4683-9c43-2367e44143ae",
   "metadata": {},
   "outputs": [
    {
     "name": "stdout",
     "output_type": "stream",
     "text": [
      "[1, 5, 6, 170, 85, 14, 9, 7]\n"
     ]
    }
   ],
   "source": [
    "print(a)"
   ]
  },
  {
   "cell_type": "code",
   "execution_count": 15,
   "id": "dee1281b-abd9-4bc8-b913-4d7e9d2f38f1",
   "metadata": {},
   "outputs": [
    {
     "name": "stdout",
     "output_type": "stream",
     "text": [
      "['00000001', '00000101', '00000110', '10101010', '01010101', '00001110', '00001001', '00000111']\n"
     ]
    }
   ],
   "source": [
    "b = []\n",
    "for i in range(0,n):\n",
    "    b.append(str(bin(a[i])[2:]).zfill(n))\n",
    "print(b)"
   ]
  },
  {
   "cell_type": "code",
   "execution_count": 18,
   "id": "c2b1bf91-4502-4197-802a-22f692d994c9",
   "metadata": {},
   "outputs": [
    {
     "name": "stdout",
     "output_type": "stream",
     "text": [
      "['00000011', '00000100']\n",
      "[3, 4]\n"
     ]
    }
   ],
   "source": [
    "q = []\n",
    "r = []\n",
    "for i in range(0,len(a)):\n",
    "    if(minFlip(b[i])):\n",
    "        r.append(i)\n",
    "        q.append(bin(i)[2:].zfill(n))\n",
    "print(q)\n",
    "print(r)"
   ]
  },
  {
   "cell_type": "code",
   "execution_count": 19,
   "id": "25df6837-f048-450a-81d2-32fca29e96fc",
   "metadata": {},
   "outputs": [
    {
     "name": "stdout",
     "output_type": "stream",
     "text": [
      "[0, 0, 0, 0, 0, 0, 0, 0]\n"
     ]
    }
   ],
   "source": [
    "t = []\n",
    "for i in range(0,n):\n",
    "    t.append(0)\n",
    "print(t)"
   ]
  },
  {
   "cell_type": "code",
   "execution_count": 20,
   "id": "cdacf32b-aee0-48a9-9970-a93699f2ec6c",
   "metadata": {},
   "outputs": [
    {
     "name": "stdout",
     "output_type": "stream",
     "text": [
      "[0, 0, 0, 0.7071067811865475, 0.7071067811865475, 0, 0, 0]\n"
     ]
    }
   ],
   "source": [
    "g = 1/sqrt(len(r))\n",
    "for i in r:\n",
    "    t[i] = g\n",
    "print(t)"
   ]
  },
  {
   "cell_type": "code",
   "execution_count": 21,
   "id": "55c1f9e9-8575-4e51-9e40-7008b23535d3",
   "metadata": {},
   "outputs": [
    {
     "name": "stdout",
     "output_type": "stream",
     "text": [
      "0.7071|011> + 0.7071|100> "
     ]
    }
   ],
   "source": [
    "dirac_notation(np.around(t, 4), int(math.log2(n)))"
   ]
  },
  {
   "cell_type": "code",
   "execution_count": null,
   "id": "608c9d3b-48be-4b0f-a5b9-015133497c1e",
   "metadata": {},
   "outputs": [],
   "source": []
  }
 ],
 "metadata": {
  "kernelspec": {
   "display_name": "Qiskit v0.29.0",
   "language": "python",
   "name": "python3"
  },
  "language_info": {
   "codemirror_mode": {
    "name": "ipython",
    "version": 3
   },
   "file_extension": ".py",
   "mimetype": "text/x-python",
   "name": "python",
   "nbconvert_exporter": "python",
   "pygments_lexer": "ipython3",
   "version": "3.8.10"
  },
  "widgets": {
   "application/vnd.jupyter.widget-state+json": {
    "state": {
     "0c3880ee13814ed69835cfb351bde122": {
      "model_module": "@jupyter-widgets/controls",
      "model_module_version": "1.5.0",
      "model_name": "HTMLModel",
      "state": {
       "layout": "IPY_MODEL_9b836533795941c69979a624e2cfd34e",
       "style": "IPY_MODEL_aee193e06714488988542f2f8b26195b",
       "value": "<h5>Queue</h5>"
      }
     },
     "21e5ff2608ed4f9d8153d127797f23fc": {
      "model_module": "@jupyter-widgets/base",
      "model_module_version": "1.2.0",
      "model_name": "LayoutModel",
      "state": {
       "width": "190px"
      }
     },
     "22a8a06c5ab44ed49904f5bad917d919": {
      "model_module": "@jupyter-widgets/controls",
      "model_module_version": "1.5.0",
      "model_name": "DescriptionStyleModel",
      "state": {
       "description_width": ""
      }
     },
     "25613389bdca4684be1adeec8ee3de21": {
      "model_module": "@jupyter-widgets/controls",
      "model_module_version": "1.5.0",
      "model_name": "HTMLModel",
      "state": {
       "layout": "IPY_MODEL_45f0c49c98a44f2482e6418a06062ab3",
       "style": "IPY_MODEL_22a8a06c5ab44ed49904f5bad917d919",
       "value": "<h5>Message</h5>"
      }
     },
     "25bca346115a41538631189eb9656465": {
      "model_module": "@jupyter-widgets/controls",
      "model_module_version": "1.5.0",
      "model_name": "DescriptionStyleModel",
      "state": {
       "description_width": ""
      }
     },
     "2dcebd21230b4ba287f35439257f7581": {
      "model_module": "@jupyter-widgets/controls",
      "model_module_version": "1.5.0",
      "model_name": "HTMLModel",
      "state": {
       "layout": "IPY_MODEL_21e5ff2608ed4f9d8153d127797f23fc",
       "style": "IPY_MODEL_a01ea5b30348451db5fc87eee3f6aed2",
       "value": "<h5>Job ID</h5>"
      }
     },
     "3b4334aa474749a2a14b5f81ab2d850d": {
      "model_module": "@jupyter-widgets/controls",
      "model_module_version": "1.5.0",
      "model_name": "HTMLModel",
      "state": {
       "layout": "IPY_MODEL_d11bb41766974893bf9552262b154ed8",
       "style": "IPY_MODEL_25bca346115a41538631189eb9656465",
       "value": "<p style='font-family: IBM Plex Sans, Arial, Helvetica, sans-serif; font-size: 20px; font-weight: medium;'>Circuit Properties</p>"
      }
     },
     "4303823f0cac4076a4bc21a8593e604e": {
      "model_module": "@jupyter-widgets/base",
      "model_module_version": "1.2.0",
      "model_name": "LayoutModel",
      "state": {
       "margin": "0px 0px 0px 37px",
       "width": "600px"
      }
     },
     "45f0c49c98a44f2482e6418a06062ab3": {
      "model_module": "@jupyter-widgets/base",
      "model_module_version": "1.2.0",
      "model_name": "LayoutModel",
      "state": {}
     },
     "496ec0aa149d4a789f409b74d3d92ae2": {
      "model_module": "@jupyter-widgets/base",
      "model_module_version": "1.2.0",
      "model_name": "LayoutModel",
      "state": {
       "grid_area": "right",
       "padding": "0px 0px 0px 0px",
       "width": "70px"
      }
     },
     "4df2dd6955244a58a598b17d63fca460": {
      "model_module": "@jupyter-widgets/controls",
      "model_module_version": "1.5.0",
      "model_name": "DescriptionStyleModel",
      "state": {
       "description_width": ""
      }
     },
     "5170adb910d54db78f5668f8fec122bf": {
      "model_module": "@jupyter-widgets/controls",
      "model_module_version": "1.5.0",
      "model_name": "DescriptionStyleModel",
      "state": {
       "description_width": ""
      }
     },
     "6b79fb5a2a6f4f8eb0cd31037f034cf2": {
      "model_module": "@jupyter-widgets/controls",
      "model_module_version": "1.5.0",
      "model_name": "HBoxModel",
      "state": {
       "children": [
        "IPY_MODEL_2dcebd21230b4ba287f35439257f7581",
        "IPY_MODEL_a294dc1d92444640a9ef087d3626482d",
        "IPY_MODEL_6d1d3a1724144271800af55ad641cb71",
        "IPY_MODEL_0c3880ee13814ed69835cfb351bde122",
        "IPY_MODEL_25613389bdca4684be1adeec8ee3de21"
       ],
       "layout": "IPY_MODEL_4303823f0cac4076a4bc21a8593e604e"
      }
     },
     "6d1d3a1724144271800af55ad641cb71": {
      "model_module": "@jupyter-widgets/controls",
      "model_module_version": "1.5.0",
      "model_name": "HTMLModel",
      "state": {
       "layout": "IPY_MODEL_db8045d0cfd74bdbbaa411c0ec74d1f5",
       "style": "IPY_MODEL_4df2dd6955244a58a598b17d63fca460",
       "value": "<h5>Status</h5>"
      }
     },
     "9b836533795941c69979a624e2cfd34e": {
      "model_module": "@jupyter-widgets/base",
      "model_module_version": "1.2.0",
      "model_name": "LayoutModel",
      "state": {
       "width": "70px"
      }
     },
     "a01ea5b30348451db5fc87eee3f6aed2": {
      "model_module": "@jupyter-widgets/controls",
      "model_module_version": "1.5.0",
      "model_name": "DescriptionStyleModel",
      "state": {
       "description_width": ""
      }
     },
     "a294dc1d92444640a9ef087d3626482d": {
      "model_module": "@jupyter-widgets/controls",
      "model_module_version": "1.5.0",
      "model_name": "HTMLModel",
      "state": {
       "layout": "IPY_MODEL_d4b298a2b5f54dc1b44699a20d7a2077",
       "style": "IPY_MODEL_5170adb910d54db78f5668f8fec122bf",
       "value": "<h5>Backend</h5>"
      }
     },
     "a9016bf839a6435a95e081e5eeca85ff": {
      "model_module": "@jupyter-widgets/controls",
      "model_module_version": "1.5.0",
      "model_name": "ButtonModel",
      "state": {
       "button_style": "primary",
       "description": "Clear",
       "layout": "IPY_MODEL_496ec0aa149d4a789f409b74d3d92ae2",
       "style": "IPY_MODEL_b50dd09f567a44bc8e1adc04498294df"
      }
     },
     "aee193e06714488988542f2f8b26195b": {
      "model_module": "@jupyter-widgets/controls",
      "model_module_version": "1.5.0",
      "model_name": "DescriptionStyleModel",
      "state": {
       "description_width": ""
      }
     },
     "b50dd09f567a44bc8e1adc04498294df": {
      "model_module": "@jupyter-widgets/controls",
      "model_module_version": "1.5.0",
      "model_name": "ButtonStyleModel",
      "state": {}
     },
     "d11bb41766974893bf9552262b154ed8": {
      "model_module": "@jupyter-widgets/base",
      "model_module_version": "1.2.0",
      "model_name": "LayoutModel",
      "state": {
       "margin": "0px 0px 10px 0px"
      }
     },
     "d4b298a2b5f54dc1b44699a20d7a2077": {
      "model_module": "@jupyter-widgets/base",
      "model_module_version": "1.2.0",
      "model_name": "LayoutModel",
      "state": {
       "width": "145px"
      }
     },
     "db8045d0cfd74bdbbaa411c0ec74d1f5": {
      "model_module": "@jupyter-widgets/base",
      "model_module_version": "1.2.0",
      "model_name": "LayoutModel",
      "state": {
       "width": "95px"
      }
     },
     "e4f3eaddaf1b4b35a56e40b3ccb95466": {
      "model_module": "@jupyter-widgets/base",
      "model_module_version": "1.2.0",
      "model_name": "LayoutModel",
      "state": {
       "grid_template_areas": "\n                                       \". . . . right \"\n                                        ",
       "grid_template_columns": "20% 20% 20% 20% 20%",
       "width": "100%"
      }
     },
     "f09a8689c9d34edfbe91057d7aa416f6": {
      "model_module": "@jupyter-widgets/controls",
      "model_module_version": "1.5.0",
      "model_name": "GridBoxModel",
      "state": {
       "children": [
        "IPY_MODEL_a9016bf839a6435a95e081e5eeca85ff"
       ],
       "layout": "IPY_MODEL_e4f3eaddaf1b4b35a56e40b3ccb95466"
      }
     }
    },
    "version_major": 2,
    "version_minor": 0
   }
  }
 },
 "nbformat": 4,
 "nbformat_minor": 5
}
